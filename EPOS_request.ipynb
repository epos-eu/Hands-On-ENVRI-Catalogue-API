{
 "cells": [
  {
   "cell_type": "markdown",
   "metadata": {
    "collapsed": false
   },
   "source": [
    "# Hand On the ENVRI Catalogue API"
   ]
  },
  {
   "cell_type": "markdown",
   "metadata": {},
   "source": [
    "## Authors\n",
    "\n",
    "- [Valerio Vinciarelli](https://orcid.org/0000-0001-5805-9337)\n",
    "- [Andrea Orfino](https://orcid.org/0000-0002-3646-6297)\n",
    "- [Daniele Bailo](https://orcid.org/0000-0003-0695-4406)\n",
    "- [Rossana Paciello](https://orcid.org/0000-0002-6975-1991)\n",
    "- [Kety Giuliacci](https://orcid.org/0000-0002-7916-6884)"
   ]
  },
  {
   "cell_type": "markdown",
   "metadata": {},
   "source": [
    "## Search\n",
    "The search function of the ENVRI Catalogue API allows users to query the database of metadata contained into the ENVRI Catalogue. The API uses a RESTful architecture, which means that users can send HTTP requests to the API endpoints and receive responses in JSON.\n",
    "\n",
    "*import requests* is a Python statement that imports the *requests* library, which is a popular Python library for making HTTP requests. The *requests* library provides an interface for sending HTTP requests and handling their responses, making it a popular good choice for RESTfull API access."
   ]
  },
  {
   "cell_type": "code",
   "execution_count": null,
   "metadata": {
    "collapsed": true
   },
   "outputs": [],
   "source": [
    "import requests"
   ]
  },
  {
   "cell_type": "markdown",
   "metadata": {},
   "source": [
    "*api_url* is assigned to 'https://ics-c.epos-ip.org/demo/k8s-epos-deploy/envri-fair-catalogue/api/v1'. This represents the base URL for the ENVRI Catalogue API."
   ]
  },
  {
   "cell_type": "code",
   "execution_count": null,
   "metadata": {},
   "outputs": [],
   "source": [
    "api_url = 'https://ics-c.epos-ip.org/demo/k8s-epos-deploy/envri-fair-catalogue/api/v1'"
   ]
  },
  {
   "cell_type": "markdown",
   "metadata": {},
   "source": [
    "We can use the *requests* library to send an HTTP GET request to the ENVRI Catalogue API search endpoint, and then extract the JSON data from the response.\n",
    "The parameters in the query for this request:\n",
    "- *facets* is set to false, this parameter is set to true when the client want the API to return the information in a categorized structure, it can  show the information as in different category on multiple levels.\n",
    "- *q* is the search by free text, it narrows down the results based on which resource contains in the title or in the description or as keyword the specific string"
   ]
  },
  {
   "cell_type": "code",
   "execution_count": null,
   "metadata": {},
   "outputs": [],
   "source": [
    "search_endpoint = api_url + '/resources/search?q=&facets=false'\n",
    "\n",
    "response_search = requests.get(search_endpoint)\n",
    "data = response_search.json()"
   ]
  },
  {
   "cell_type": "markdown",
   "metadata": {},
   "source": [
    "This is a JSON object with two key:\n",
    "\n",
    "1. \"*filters*\" which has an array of four objects as its value: \"*keyword*\", \"*organisations*\", \"*sciencedomains*\" and \"*servicetype*\". Each object represents a filter category and has two key-value pairs:\n",
    "    - \"*name*\": a string that represents the name of the filter category.\n",
    "    - \"*children*\": an array of objects that represent the subcategories for the filter category. Each subcategory object has two key-value pairs:\n",
    "        - \"*id*\": a string that represents a unique identifier for the subcategory.\n",
    "        - \"*name*\": a string that represents the name of the subcategory.\n",
    "2. \"results*\" that holds an array of object representing all the resources available in the system.\n"
   ]
  },
  {
   "cell_type": "code",
   "execution_count": null,
   "metadata": {},
   "outputs": [],
   "source": [
    "data"
   ]
  },
  {
   "cell_type": "markdown",
   "metadata": {
    "collapsed": false
   },
   "source": [
    "Each one of the *results* object has these properties:\n",
    "- \"**availableFormats**\": an array of elements each representing a file format that can be downloaded for this resource, including the format type, the url to get the resource with that specific format, a label, and type which define if the format is natively available of it needs a conversion.\n",
    "- \"**ddss**\": a string representing the business identifier of the resource.\n",
    "- \"**description**\": a string containing a detailed description of the dataset, including the purpose, content, and objectives.\n",
    "- \"**href**\": a string representing the URL where the EPOS ICS-C API serve the details of the resources.\n",
    "- \"**id**\": a string representing the unique identifier of this dataset.\n",
    "- \"**status**\": an integer representing the status of the resource.\n",
    "- \"**title**\": a string representing the title of the resource.\n",
    "- \"**uid**\": a string representing the unique identifier of the resource."
   ]
  },
  {
   "cell_type": "markdown",
   "metadata": {
    "collapsed": false
   },
   "source": [
    "Here it is an instance of the first resource:"
   ]
  },
  {
   "cell_type": "code",
   "execution_count": null,
   "metadata": {
    "collapsed": false
   },
   "outputs": [],
   "source": [
    "data['results'][0]"
   ]
  },
  {
   "cell_type": "markdown",
   "metadata": {
    "collapsed": false
   },
   "source": [
    "## Details\n",
    "\n",
    "The details function of the ENVRI Catalogue API allows users to retrieve detailed information about a specific seismic event. Users can query the API using the unique ID assigned to each resource in the database.\n",
    "\n",
    "To retrieve all the detailed information about this resource is enough to do a GET request, using also this time the *requests* library, on the *href* property."
   ]
  },
  {
   "cell_type": "code",
   "execution_count": null,
   "metadata": {
    "collapsed": false
   },
   "outputs": [],
   "source": [
    "response_detail = requests.get(data['results'][0]['href'])\n",
    "data_details = response_detail.json()"
   ]
  },
  {
   "cell_type": "markdown",
   "metadata": {
    "collapsed": false
   },
   "source": [
    "The details response payload have this structure:\n",
    "- **availableFormats**: an array that contains multiple object with details about the available format for the data, one for each available format.\n",
    "- **dataProvider**: an array that contains objects with details about the data provider of the resource, one resource can have multiple dataprovider and each one of these can have multiple dataproviders related, also, if available is present an url to the page of the dataprovider.\n",
    "- **description**: a string that describes the purpose and objectives of the resource.\n",
    "- **downloadURL**: This property contains a URL that is a direct link to a downloadable file in a given format. An empty string indicating that there is no download URL available.\n",
    "- **endpoint**: a string that provides the URL endpoint for accessing the data.\n",
    "- **frequencyUpdate**: a string that indicates the frequency or the strategy of updates to the data.\n",
    "- **hasQualityAnnotation**: a string that provides a link to information about the quality assurance of the data.\n",
    "- **href**: a string that provides a link to the details of the resource.\n",
    "- **id**: a string that serves as a unique identifier for the resource.\n",
    "- **internalID**: an array that contains the internal identifier for the resource.\n",
    "- **keywords**: an array of strings that contain keywords related to the data.\n",
    "- **license**: a string that provides a link to the license agreement for accessing the data.\n",
    "- **operationid**: a string that provides a link to the operation of the resource, it contains the unique identifier of the operation.\n",
    "- **scienceDomain**: an array that provides the science domain of the resource.\n",
    "- **serviceDescription**: a string that describes the purpose of the web service.\n",
    "- **serviceDocumentation**: a string that provides a link to the documentation for the web service.\n",
    "- **serviceEndpoint**: a string that provides the URL endpoint for accessing the web service.\n",
    "- **serviceName**: a string that provides the name of the web service.\n",
    "- **serviceParameters**: an array that contains an object with details about the parameters required to use the web service (in this case, the parameter \"start\" is required and has a default value of \"19821001\").\n",
    "- **serviceProvider**: an object with details about the service provider of the resource, one resource can have one service provider and each one of these can have multiple service providers related, also, if available is present an url to the page of the serviceprovider.\n",
    "- **serviceSpatial**: an object that contains spatial information about the service like a path of coordinates.\n",
    "- **serviceTemporalCoverage**: an object that provides temporal coverage information for the service.\n",
    "- **serviceType**: an array that provides the type of the service.\n",
    "- **spatial**: an object that contains spatial information about the resource like a path defined by a set of coordinates.\n",
    "- **temporalCoverage**: an object that provides temporal coverage information for the resource.\n",
    "- **title**: a string that provides the title of the resource.\n",
    "- **type**: a string that provides the type of the resource.\n",
    "- **uid**: a string that serves as a unique identifier of the resource."
   ]
  },
  {
   "cell_type": "code",
   "execution_count": null,
   "metadata": {
    "collapsed": false
   },
   "outputs": [],
   "source": [
    "data_details"
   ]
  },
  {
   "cell_type": "markdown",
   "metadata": {
    "collapsed": false
   },
   "source": [
    "## Download original data\n",
    "\n",
    "To download the original data of one of the resource is enough to use the *requests* to execute a GET request using the id of  the resource and on the original URL endpoint"
   ]
  },
  {
   "cell_type": "code",
   "execution_count": null,
   "metadata": {
    "collapsed": false
   },
   "outputs": [],
   "source": [
    "import urllib.parse\n",
    "response_original_url = requests.get(api_url + '/getoriginalurl?id=' + urllib.parse.quote(data_details['id'].encode('utf8')))\n",
    "data_original_url = response_original_url.json()"
   ]
  },
  {
   "cell_type": "markdown",
   "metadata": {
    "collapsed": false
   },
   "source": [
    "The response is a Json Object with only one property: *url*.\n",
    "The url is where the resource is located."
   ]
  },
  {
   "cell_type": "code",
   "execution_count": null,
   "metadata": {
    "collapsed": false
   },
   "outputs": [],
   "source": [
    "data_original_url"
   ]
  },
  {
   "cell_type": "markdown",
   "metadata": {
    "collapsed": false
   },
   "source": [
    "Using *requests* is possible to get the information located at that URL"
   ]
  },
  {
   "cell_type": "code",
   "execution_count": null,
   "metadata": {
    "collapsed": false
   },
   "outputs": [],
   "source": [
    "response_original_data = requests.get(data_original_url['url'])\n",
    "original_data = response_original_data.content\n",
    "original_data"
   ]
  },
  {
   "cell_type": "markdown",
   "metadata": {
    "collapsed": false
   },
   "source": [
    "## Use case\n",
    "\n",
    "A user want to do some analysis on some sismic data distributed by the KMNI."
   ]
  },
  {
   "cell_type": "markdown",
   "metadata": {
    "collapsed": false
   },
   "source": [
    "### Search of the data\n",
    "\n",
    "The user do the search request asking to filter on this string: \"seismic waveforms\" (The string needs to be url encoded)"
   ]
  },
  {
   "cell_type": "code",
   "execution_count": null,
   "metadata": {
    "collapsed": false
   },
   "outputs": [],
   "source": [
    "response_search_filtered = requests.get(api_url + \"/resources/search?q=\" + urllib.parse.quote('seismic waveforms'.encode('utf8')) + \"&facets=false\")\n",
    "filtered_data = response_search_filtered.json()\n",
    "filtered_data"
   ]
  },
  {
   "cell_type": "markdown",
   "metadata": {
    "collapsed": false
   },
   "source": [
    "It returned only one result"
   ]
  },
  {
   "cell_type": "markdown",
   "metadata": {
    "collapsed": false
   },
   "source": [
    "### Get the data\n",
    "\n",
    "The user get the data of the resource from the source. Before he get from the ICS-C API the url of the original resource, then he queries the service to get the actual data."
   ]
  },
  {
   "cell_type": "code",
   "execution_count": null,
   "metadata": {
    "collapsed": false
   },
   "outputs": [],
   "source": [
    "response_KNMI_original_url= requests.get(api_url + '/getoriginalurl?id=' + filtered_data['results'][0]['id'])\n",
    "original_url_KNMI = response_KNMI_original_url.json()['url']\n",
    "\n",
    "response_KNMI_data = requests.get(original_url_KNMI)\n",
    "KNMI_data = response_KNMI_data.content"
   ]
  },
  {
   "cell_type": "markdown",
   "metadata": {
    "collapsed": false
   },
   "source": [
    "#### Save the data on file\n",
    "\n",
    "The user know from the search that the data which he had just retrieved is a *miniseed* file, because in the *availableFormats* it shows that the original file format. So he save it on a file."
   ]
  },
  {
   "cell_type": "code",
   "execution_count": null,
   "metadata": {
    "collapsed": false
   },
   "outputs": [],
   "source": [
    "with open(\"KNMI_data.mseed\", \"wb\") as f:\n",
    "    f.write(KNMI_data)"
   ]
  },
  {
   "cell_type": "markdown",
   "metadata": {
    "collapsed": false
   },
   "source": [
    "### Visualize the data\n",
    "\n",
    "Then he decide to visualize the waves using obspy library."
   ]
  },
  {
   "cell_type": "code",
   "execution_count": 10,
   "metadata": {
    "collapsed": false
   },
   "outputs": [
    {
     "data": {
      "image/png": "[encoded data removed]",
      "text/plain": [
       "<Figure size 800x250 with 1 Axes>"
      ]
     },
     "execution_count": 10,
     "metadata": {},
     "output_type": "execute_result"
    }
   ],
   "source": [
    "from obspy import read\n",
    "\n",
    "st = read(\"INGV_data.mseed\", format='mseed')\n",
    "st.plot()"
   ]
  }
 ],
 "metadata": {
  "kernelspec": {
   "display_name": "Python 3 (ipykernel)",
   "language": "python",
   "name": "python3"
  },
  "language_info": {
   "codemirror_mode": {
    "name": "ipython",
    "version": 3
   },
   "file_extension": ".py",
   "mimetype": "text/x-python",
   "name": "python",
   "nbconvert_exporter": "python",
   "pygments_lexer": "ipython3",
   "version": "3.9.15"
  }
 },
 "nbformat": 4,
 "nbformat_minor": 1
}
